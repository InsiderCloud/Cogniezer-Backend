{
  "cells": [
    {
      "cell_type": "code",
      "execution_count": null,
      "metadata": {
        "colab": {
          "base_uri": "https://localhost:8080/"
        },
        "id": "mzV8Na6Dh2Iv",
        "outputId": "cee36e8b-f678-4108-caf0-8c2fc2ac84d2"
      },
      "outputs": [
        {
          "name": "stdout",
          "output_type": "stream",
          "text": [
            "Mounted at /content/drive\n"
          ]
        }
      ],
      "source": [
        "from google.colab import drive\n",
        "drive.mount('/content/drive')"
      ]
    },
    {
      "cell_type": "markdown",
      "metadata": {
        "id": "zBaZwbqslI3m"
      },
      "source": [
        "# The below command displays the current status of the NVIDIA GPU(s) on the system\n",
        "\n",
        "-If the GPU is not being utilized, configure the machine learning framework to use the GPU\n",
        "-If the code is running slowly, optimize the code to better utilize the GPU\n",
        "-This command is a useful tool for debugging and optimizing machine learning projects that utilize NVIDIA GPUs"
      ]
    },
    {
      "cell_type": "code",
      "execution_count": null,
      "metadata": {
        "id": "VJQiDOp0pI9d"
      },
      "outputs": [],
      "source": [
        "# Check if the GPU is being utilized by the code\n",
        "!nvidia-smi"
      ]
    },
    {
      "cell_type": "code",
      "execution_count": null,
      "metadata": {
        "id": "wAXV9CcEpNDH"
      },
      "outputs": [],
      "source": [
        "# Install necessary packages for the project\n",
        "!pip install transformers[sentencepiece] datasets sacrebleu rouge_score py7zr -q\n",
        "\n",
        "# The above command installs the following packages:\n",
        "# - transformers: a popular library for natural language processing (NLP) tasks such as text classification and language translation\n",
        "# - datasets: a collection of datasets for NLP tasks, including the popular Hugging Face datasets\n",
        "# - sacrebleu: a library for computing BLEU scores, a metric for evaluating the quality of machine-translated text\n",
        "# - rouge_score: a library for computing ROUGE scores, another metric for evaluating the quality of machine-translated text\n",
        "# - py7zr: a library for working with 7z archives, a type of compressed file format"
      ]
    },
    {
      "cell_type": "code",
      "execution_count": null,
      "metadata": {
        "id": "V7TpYmKZp7lK"
      },
      "outputs": [],
      "source": [
        "# Install and upgrade necessary packages for the project\n",
        "!pip install --upgrade accelerate\n",
        "!pip uninstall -y transformers accelerate\n",
        "!pip install transformers accelerate\n",
        "\n",
        "# The above commands install and upgrade the following packages:\n",
        "# - accelerate: a library for optimizing PyTorch and TensorFlow code for CPU and GPU performance\n",
        "# - transformers: a popular library for natural language processing (NLP) tasks such as text classification and language translation\n",
        "\n",
        "# The second command uninstalls the previously installed versions of transformers and accelerate to ensure that the latest versions are installed.\n",
        "\n",
        "# These packages are necessary to optimize their code for CPU and GPU performance and perform NLP tasks such as text classification and language translation."
      ]
    },
    {
      "cell_type": "code",
      "execution_count": null,
      "metadata": {
        "id": "_yrnPeAiqHF4"
      },
      "outputs": [],
      "source": [
        "# Import necessary packages for the project\n",
        "from transformers import pipeline, set_seed\n",
        "from datasets import load_dataset, load_from_disk\n",
        "import matplotlib.pyplot as plt\n",
        "import pandas as pd\n",
        "from datasets import load_metric\n",
        "from transformers import AutoModelForSeq2SeqLM, AutoTokenizer\n",
        "import nltk\n",
        "from nltk.tokenize import sent_tokenize\n",
        "from tqdm import tqdm\n",
        "import torch\n",
        "\n",
        "# The above packages are likely necessary for the project and will enable the Programmer to perform natural language processing (NLP) tasks such as text classification and language translation.\n",
        "# - transformers: a popular library for NLP tasks such as text classification and language translation\n",
        "# - datasets: a collection of datasets for NLP tasks, including the popular Hugging Face datasets\n",
        "# - matplotlib: a library for creating visualizations in Python\n",
        "# - pandas: a library for data manipulation and analysis\n",
        "# - nltk: a library for natural language processing tasks such as tokenization and stemming\n",
        "# - tqdm: a library for adding progress bars to Python loops\n",
        "# - torch: a library for machine learning tasks such as neural network training and inference"
      ]
    },
    {
      "cell_type": "code",
      "execution_count": null,
      "metadata": {
        "colab": {
          "base_uri": "https://localhost:8080/"
        },
        "id": "8N4puT7RlI3q",
        "outputId": "71feb026-815b-49aa-c5c6-2392a5293ac1"
      },
      "outputs": [],
      "source": [
        "nltk.download(\"punkt\")\n",
        "# The above code also downloads the \"punkt\" tokenizer from the nltk library, which is used for tokenizing text into sentences."
      ]
    },
    {
      "cell_type": "code",
      "execution_count": null,
      "metadata": {
        "id": "0AZPPhsjrdKz"
      },
      "outputs": [],
      "source": [
        "# Load a pre-trained Pegasus model for sequence-to-sequence language modeling\n",
        "# Set the device to use for running the model (either \"cuda\" or \"cpu\")\n",
        "device = \"cuda\" if torch.cuda.is_available() else \"cpu\"\n",
        "model_name = \"google/bigbird-pegasus-large-arxiv\"\n",
        "tokenizer = AutoTokenizer.from_pretrained(model_name)\n",
        "model_bigbird = AutoModelForSeq2SeqLM.from_pretrained(model_name).to(device)\n",
        "\n",
        "# The above code loads a pre-trained Pegasus model for sequence-to-sequence language modeling and sets the device to use for running the model.\n",
        "# - torch: a library for machine learning tasks such as neural network training and inference\n",
        "# - AutoTokenizer: a class for automatically selecting the appropriate tokenizer based on the checkpoint name\n",
        "# - AutoModelForSeq2SeqLM: a class for automatically selecting the appropriate model based on the checkpoint name\n",
        "# - \"google/bigbird-pegasus-large-arxiv\": the checkpoint name for the pre-trained BigBird model\n",
        "# - device: the device to use for running the model (either \"cuda\" or \"cpu\")"
      ]
    },
    {
      "cell_type": "code",
      "execution_count": null,
      "metadata": {
        "id": "rBiMBsukVPU0"
      },
      "outputs": [],
      "source": [
        "from transformers import DataCollatorForSeq2Seq\n",
        "\n",
        "seq2seq_data_collator = DataCollatorForSeq2Seq(tokenizer,model=model_bigbird)"
      ]
    },
    {
      "cell_type": "code",
      "execution_count": null,
      "metadata": {
        "id": "2Onm9aGzsa-W"
      },
      "outputs": [],
      "source": [
        "# Download and extract the summarizer data\n",
        "!wget https://github.com/InsiderCloud/summarizer-datasets/raw/main/dataset_samsum.zip\n",
        "!wget https://github.com/InsiderCloud/summarizer-datasets/raw/main/dataset_scrolls_books.zip\n",
        "!wget https://github.com/InsiderCloud/summarizer-datasets/raw/main/dataset_scrolls_dialogue.zip\n",
        "!wget https://github.com/InsiderCloud/summarizer-datasets/raw/main/meeting_bank.zip\n",
        "\n",
        "\n",
        "# The above commands download and extract the summarizer data from a GitHub repository.\n",
        "# - wget: a command-line utility for downloading files from the web\n",
        "# - unzip: a command-line utility for extracting files from a zip archive"
      ]
    },
    {
      "cell_type": "code",
      "execution_count": null,
      "metadata": {
        "id": "jI1XzMyI2hvB"
      },
      "outputs": [],
      "source": [
        "!unzip dataset_samsum.zip\n",
        "!unzip dataset_scrolls_books.zip\n",
        "!unzip dataset_scrolls_dialogue.zip\n",
        "!unzip meeting_bank.zip"
      ]
    },
    {
      "cell_type": "markdown",
      "metadata": {},
      "source": [
        "# List all available datasets in hugginface"
      ]
    },
    {
      "cell_type": "code",
      "execution_count": null,
      "metadata": {
        "id": "foMyTShjMdzu"
      },
      "outputs": [],
      "source": [
        "!pip install huggingface_hub"
      ]
    },
    {
      "cell_type": "code",
      "execution_count": null,
      "metadata": {
        "id": "Tm_4HcPbMVF4"
      },
      "outputs": [],
      "source": [
        "from huggingface_hub import list_datasets\n",
        "print([dataset.id for dataset in list_datasets()])"
      ]
    },
    {
      "cell_type": "markdown",
      "metadata": {
        "id": "Yngdw82MlI3q"
      },
      "source": [
        "## Load the samsum dataset\n",
        "\n",
        "The samsum dataset is loaded from disk using the `load_from_disk` function from the `datasets` package. This dataset likely contains the necessary data for the project and will enable the Programmer to train and test their summarization model.\n",
        "\n",
        "The code to load the samsum dataset is shown below:"
      ]
    },
    {
      "cell_type": "code",
      "execution_count": null,
      "metadata": {
        "colab": {
          "base_uri": "https://localhost:8080/"
        },
        "id": "yJP_sKGWufIg",
        "outputId": "5dce1e81-b1c0-445d-db86-0399895588d1"
      },
      "outputs": [],
      "source": [
        "# Load the samsum dataset from disk\n",
        "dataset_meeting_bank = load_from_disk(\"dataset_meeting_bank\")\n",
        "dataset_meeting_bank"
      ]
    },
    {
      "cell_type": "code",
      "execution_count": null,
      "metadata": {
        "colab": {
          "base_uri": "https://localhost:8080/"
        },
        "id": "uoH01Z1iQDAS",
        "outputId": "53be8f18-ea0e-42bc-8a49-714c75adf01c"
      },
      "outputs": [],
      "source": [
        "# @title Default title text\n",
        "dataset_samsum = load_from_disk(\"dataset_samsum\")\n",
        "dataset_samsum"
      ]
    },
    {
      "cell_type": "code",
      "execution_count": null,
      "metadata": {
        "id": "z_FnItZ3yWDc"
      },
      "outputs": [],
      "source": [
        "dataset_scrolls_books = load_from_disk(\"dataset_scrolls_books\")\n",
        "dataset_scrolls_books"
      ]
    },
    {
      "cell_type": "code",
      "execution_count": null,
      "metadata": {
        "id": "yfki66iTyVaq"
      },
      "outputs": [],
      "source": [
        "dataset_scrolls_dialogue = load_from_disk(\"dataset_scrolls_dialogue\")\n",
        "dataset_scrolls_dialogue"
      ]
    },
    {
      "cell_type": "markdown",
      "metadata": {
        "id": "vDDT2VvilI3r"
      },
      "source": [
        "## Print information about the samsum dataset\n",
        "\n",
        "The following code prints information about the samsum dataset, including the length of each split, the column names, and an example dialogue and summary."
      ]
    },
    {
      "cell_type": "code",
      "execution_count": null,
      "metadata": {
        "id": "JsRUU-ysP1j2"
      },
      "outputs": [],
      "source": [
        "# Print information about the samsum dataset\n",
        "split_lengths = [len(dataset_samsum[split]) for split in dataset_samsum]\n",
        "print(f\"Split lengths: {split_lengths}\")\n",
        "print(f\"Features: {dataset_samsum['train'].column_names}\")\n",
        "print(\"\\nDialogue:\")\n",
        "print(dataset_samsum[\"test\"][1][\"dialogue\"])\n",
        "print(\"\\nSummary:\")\n",
        "print(dataset_samsum[\"test\"][1][\"summary\"])"
      ]
    },
    {
      "cell_type": "markdown",
      "metadata": {
        "id": "X2KLO5KXlI3r"
      },
      "source": [
        "## Convert examples to features for training the summarization model\n",
        "\n",
        "The following code defines a function for converting a batch of examples to features for training the summarization model. The function tokenizes the input dialogue and target summary using the tokenizer and returns the input IDs, attention mask, and target labels as a dictionary."
      ]
    },
    {
      "cell_type": "code",
      "execution_count": 13,
      "metadata": {
        "id": "3_5PQ_jpSLe_"
      },
      "outputs": [],
      "source": [
        "# Convert a batch of examples to features for training the summarization model\n",
        "def convert_examples_to_features(example_batch,text_field,summary_field):\n",
        "  input_encode = tokenizer(example_batch[text_field], max_length=4096, truncation=True)\n",
        "  with tokenizer.as_target_tokenizer():\n",
        "    target_encode = tokenizer(example_batch[summary_field], max_length=512, truncation=True)\n",
        "  return {\n",
        "      'input_ids': input_encode['input_ids'],\n",
        "      'attention_mask': input_encode['attention_mask'],\n",
        "      'labels': target_encode['input_ids']\n",
        "  }"
      ]
    },
    {
      "cell_type": "code",
      "execution_count": null,
      "metadata": {
        "colab": {
          "base_uri": "https://localhost:8080/",
          "height": 168,
          "referenced_widgets": [
            "6e84d84ccd9c4bb6ad3cd0e844877f5d",
            "309838f11b3341349d2da714228d7024",
            "21dd8297ed2a4c5db0fcbd54458829e9",
            "3fda4e95246c40dea5345cb81123ad26",
            "83e22dc6f67f488393fba4f07e7b55f8",
            "a53083b68fe84574a76f41826a766282",
            "d5076724024543b282744ebaea653e62",
            "3772d32ee34845089425942af4d8a310",
            "98c0d766cb224032b2bcad8099a77acd",
            "8b4f20a9fcbb4da8af298606023ba2ee",
            "f1dd1aa1de9644ee8decc71caf6479ba",
            "b92acf9303e547c88ecf536eccaf1133",
            "df9a930254b441cc99fc60c3727be248",
            "7f5492cc4a114bfcacccea72367c3916",
            "2a927eecf04044fb953725ddcd2b4e5a",
            "9f4925cd10b048cb82faecf9e4cbb009",
            "da9d310be3894c86a7daf4dd8a06ff32",
            "9e68ae9ea8b2474bb00822494c672598",
            "a47a90e40b6b461283a4eb7358b41b03",
            "13397066635b4dfbb4ef292f701a7157",
            "1a7d5bd5ff7a4b77a12dcfa01e9109a3",
            "aa012fa3c0764f04b8bc0bdbf3a04b61",
            "ee75d6d37cf4452bbc4b0e5bb81ed7ed",
            "39b75f13bda5450ea6bdb21b266ad306",
            "5220ac5a64ad4a13a63961dc19f8146e",
            "3cf69bcc15f34d6da5a2753c31c5a465",
            "efe70fc397cf48daa59e6377f004c4d0",
            "cb8e309e5c374ca8aa3eea735fee53a7",
            "8a5b669561094b59adb3ef9c8b3acc50",
            "f8de0d7e4f584af694a22e5b1b532ced",
            "867b0fec17e84f738eaf7eabc6d05647",
            "a220bcc96556483697c65db32d8211fc",
            "cb1db5c67ce54eeca47bef8882c502c3"
          ]
        },
        "id": "RjmP4fDmT6GF",
        "outputId": "3a8b6938-b311-4f95-dcb3-618923c30710"
      },
      "outputs": [],
      "source": [
        "dataset_samsum_pt = dataset_samsum.map(\n",
        "    lambda examples: convert_examples_to_features(examples, 'dialogue', 'summary'),\n",
        "    batched = True)"
      ]
    },
    {
      "cell_type": "code",
      "execution_count": null,
      "metadata": {
        "colab": {
          "base_uri": "https://localhost:8080/",
          "height": 113,
          "referenced_widgets": [
            "8be56c6873094c73ab0a79a22e33ea19",
            "4367e4452266477189fd1d6fcbedef2c",
            "8f20b2e8467e43f5b688dcfb7c26eb2a",
            "d6b0493e6d194ba09955a13ce9a0e42c",
            "910c6d41f2f14daea112d5fd7a3bb4ee",
            "3691ab71e8c641edba9ef09c32a052e9",
            "8016054d214a43648b3bcb861048c86c",
            "b9bfd1e1f9de4b0bb1ca016611563f45",
            "8941810726684d1191548b3c2214f9af",
            "39b63cb3c98548649983c9037596c9b6",
            "d027fc441acf45f7acf6121a728d231b",
            "2691624785694002b46e028e0a52fd05",
            "b888fcc6c138474fb6331771f9c37fd5",
            "8c95d58f776341fa9bddbd975eda7228",
            "87f15672fa3e433786f642aca4df434a",
            "081eac225ab8470d9180419f8373cf2b",
            "5503648716704f24970ac0c66532d5c8",
            "012c28dda68542eea5d58a129d95ec09",
            "85e8b40ab8b04dc5b20fddbfb3fd009e",
            "6aa3307aa538482f955de3165974d829",
            "31bd8c98cf2d4717abe6131ea57236c8",
            "56db6a28ee344c6d8292e0f5df2c4102",
            "19971a3cd3e3468fa8c705f370322b9f",
            "635ae20f2ef246c6ad2305897e604247",
            "4f9595825d2a4b3c9681c8a4daa0b2ea",
            "6d519c452ca64cf6b305bf98d15cb76c",
            "f2fb474638674313b610331cca748921",
            "e54a98e754604fafb6e99191811d3ccc",
            "2a6f785bf47a46aebc5f19a739a51897",
            "e24cfd7d98a548769b648eed00c1b59e",
            "f3c5a04dfc404c59b722cb196074de90",
            "a5dcd67ec5794ed5a1ac435a6d97efe6",
            "35c8052f5ab6417fa8748d3b29675dd7"
          ]
        },
        "id": "VFDub2_61q2-",
        "outputId": "47ef6de0-e0ca-469d-8a8e-64741ff660f3"
      },
      "outputs": [],
      "source": [
        "dataset_meeting_bank_pt = dataset_meeting_bank.map(\n",
        "    lambda examples: convert_examples_to_features(examples, 'source', 'reference'),\n",
        "    batched = True)"
      ]
    },
    {
      "cell_type": "code",
      "execution_count": null,
      "metadata": {
        "id": "x2K0eRZB1rfc"
      },
      "outputs": [],
      "source": [
        "dataset_scrolls_books_pt = dataset_scrolls_books.map(\n",
        "    lambda examples: convert_examples_to_features(examples, 'input', 'output'),\n",
        "    batched = True)"
      ]
    },
    {
      "cell_type": "code",
      "execution_count": null,
      "metadata": {
        "id": "bCj7b5cA1r6K"
      },
      "outputs": [],
      "source": [
        "dataset_scrolls_dialogue_pt = dataset_scrolls_dialogue.map(\n",
        "    lambda examples: convert_examples_to_features(examples, 'input', 'output'),\n",
        "    batched = True)"
      ]
    },
    {
      "cell_type": "markdown",
      "metadata": {
        "id": "Xh1LdIG3VPn-"
      },
      "source": [
        "**Training**"
      ]
    },
    {
      "cell_type": "code",
      "execution_count": 16,
      "metadata": {
        "id": "txO5_D9oVsnW"
      },
      "outputs": [],
      "source": [
        "from transformers import TrainingArguments, Trainer\n",
        "\n",
        "trainer_args = TrainingArguments(\n",
        "    output_dir='bigbird-samsum',\n",
        "    num_train_epochs=2,\n",
        "    warmup_steps=5000,\n",
        "    per_device_train_batch_size=1,\n",
        "    per_device_eval_batch_size=1,\n",
        "    weight_decay=0.01,\n",
        "    logging_steps=10,\n",
        "    evaluation_strategy='steps',\n",
        "    eval_steps=500,\n",
        "    save_steps=1e6,\n",
        "    gradient_accumulation_steps=16\n",
        ")"
      ]
    },
    {
      "cell_type": "markdown",
      "metadata": {
        "id": "DT9P2Mvihr96"
      },
      "source": [
        "Train on samsum dataset"
      ]
    },
    {
      "cell_type": "code",
      "execution_count": 17,
      "metadata": {
        "id": "hbzBZXjvXAF5"
      },
      "outputs": [],
      "source": [
        "trainer = Trainer(\n",
        "    model=model_bigbird,\n",
        "    args = trainer_args,\n",
        "    tokenizer=tokenizer,\n",
        "    data_collator=seq2seq_data_collator,\n",
        "    train_dataset=dataset_samsum_pt['train'],\n",
        "    eval_dataset=dataset_samsum_pt[\"validation\"])"
      ]
    },
    {
      "cell_type": "code",
      "execution_count": null,
      "metadata": {
        "colab": {
          "base_uri": "https://localhost:8080/",
          "height": 224
        },
        "id": "l8c2ySV0hpZN",
        "outputId": "078fe14d-6511-4894-c276-95699c86a671"
      },
      "outputs": [
        {
          "name": "stderr",
          "output_type": "stream",
          "text": [
            "You're using a PegasusTokenizerFast tokenizer. Please note that with a fast tokenizer, using the `__call__` method is faster than using a method to encode the text followed by a call to the `pad` method to get a padded encoding.\n",
            "Attention type 'block_sparse' is not possible if sequence_length: 203 <= num global tokens: 2 * config.block_size + min. num sliding tokens: 3 * config.block_size + config.num_random_blocks * config.block_size + additional buffer: config.num_random_blocks * config.block_size = 704 with config.block_size = 64, config.num_random_blocks = 3. Changing attention type to 'original_full'...\n"
          ]
        },
        {
          "data": {
            "text/html": [
              "\n",
              "    <div>\n",
              "      \n",
              "      <progress value='1520' max='1840' style='width:300px; height:20px; vertical-align: middle;'></progress>\n",
              "      [1520/1840 1:17:44 < 16:23, 0.33 it/s, Epoch 1.65/2]\n",
              "    </div>\n",
              "    <table border=\"1\" class=\"dataframe\">\n",
              "  <thead>\n",
              " <tr style=\"text-align: left;\">\n",
              "      <th>Step</th>\n",
              "      <th>Training Loss</th>\n",
              "      <th>Validation Loss</th>\n",
              "    </tr>\n",
              "  </thead>\n",
              "  <tbody>\n",
              "    <tr>\n",
              "      <td>500</td>\n",
              "      <td>4.884400</td>\n",
              "      <td>4.660931</td>\n",
              "    </tr>\n",
              "    <tr>\n",
              "      <td>1000</td>\n",
              "      <td>4.227000</td>\n",
              "      <td>4.031272</td>\n",
              "    </tr>\n",
              "    <tr>\n",
              "      <td>1500</td>\n",
              "      <td>3.686300</td>\n",
              "      <td>3.697585</td>\n",
              "    </tr>\n",
              "  </tbody>\n",
              "</table><p>"
            ],
            "text/plain": [
              "<IPython.core.display.HTML object>"
            ]
          },
          "metadata": {},
          "output_type": "display_data"
        }
      ],
      "source": [
        "trainer.train()"
      ]
    },
    {
      "cell_type": "markdown",
      "metadata": {
        "id": "JQTSoHuOhkiV"
      },
      "source": [
        "Train on Bank_meetings"
      ]
    },
    {
      "cell_type": "code",
      "execution_count": null,
      "metadata": {
        "id": "BqvVZcQxhnS0"
      },
      "outputs": [],
      "source": [
        "trainer = Trainer(\n",
        "    model=model_bigbird,\n",
        "    args = trainer_args,\n",
        "    tokenizer=tokenizer,\n",
        "    data_collator=seq2seq_data_collator,\n",
        "    train_dataset=dataset_meeting_bank_pt['train'],\n",
        "    eval_dataset=dataset_meeting_bank_pt[\"validation\"])"
      ]
    },
    {
      "cell_type": "code",
      "execution_count": null,
      "metadata": {
        "id": "onnBWqXAX3BI"
      },
      "outputs": [],
      "source": [
        "trainer.train()"
      ]
    },
    {
      "cell_type": "markdown",
      "metadata": {
        "id": "hjwavL3GYKHo"
      },
      "source": [
        "Evaluation"
      ]
    },
    {
      "cell_type": "code",
      "execution_count": null,
      "metadata": {
        "id": "WuIkblmhYT54"
      },
      "outputs": [],
      "source": [
        "from sqlalchemy import column\n",
        "def generate_batch_sized_chunks(list_of_elements,batch_size):\n",
        "  for i in range(0,len(list_of_elements),batch_size):\n",
        "    yield list_of_elements[i:i+batch_size]\n",
        "\n",
        "def calculate_metric_on_test_ds(dataset,metric,model,tokenizer,\n",
        "                                batch_size=16,device=device,\n",
        "                                column_text=\"transcribe\",\n",
        "                                column_summary=\"highlights\"):\n",
        "  transcribe_batches = list(generate_batch_sized_chunks(dataset[column_text],batch_size))\n",
        "  target_batches = list(generate_batch_sized_chunks(dataset[column_summary],batch_size))\n",
        "\n",
        "  for transcribe_batch, target_batch in tqdm( zip(transcribe_batches,target_batches),total=len(transcribe_batches)):\n",
        "    inputs = tokenizer(transcribe_batch,max_length=4096,truncation= True,padding=\"max_length\",return_tensors=\"pt\")\n",
        "\n",
        "    summaries = model.generate(input_ids=inputs[\"input_ids\"].to(device),\n",
        "                               attention_mask=inputs[\"attention_mask\"].to(device),\n",
        "                               length_penalty=0.8,num_beams=8,max_length=512)\n",
        "\n",
        "    decoded_summaries = [tokenizer.decode(s,skip_special_tokens=True,clean_up_tokenization_spaces=True) for s in summaries]\n",
        "\n",
        "    decoded_summaries = [d.replace(\"\",\" \") for d in decoded_summaries]\n",
        "\n",
        "    metric.add_batch(predictions=decoded_summaries,references=target_batch)\n",
        "\n",
        "\n",
        "  score = metric.compute()\n",
        "  return score\n"
      ]
    },
    {
      "cell_type": "code",
      "execution_count": null,
      "metadata": {
        "id": "z4f6nirfiKA7"
      },
      "outputs": [],
      "source": [
        "rouge_names = [\"rouge1\", \"rouge2\", \"rougeL\", \"rougeLsum\"]\n",
        "rouge_metric = load_metric('rouge')"
      ]
    },
    {
      "cell_type": "code",
      "execution_count": null,
      "metadata": {
        "id": "XJ3Ek6jFKHUS"
      },
      "outputs": [],
      "source": [
        "device = 'cuda'\n",
        "import torch, gc\n",
        "import os\n",
        "gc.collect()\n",
        "torch.cuda.empty_cache()"
      ]
    },
    {
      "cell_type": "code",
      "execution_count": null,
      "metadata": {
        "id": "XsnOOB2shEI2"
      },
      "outputs": [],
      "source": [
        "score = calculate_metric_on_test_ds(\n",
        "    dataset_samsum['test'],\n",
        "    rouge_metric,\n",
        "    trainer.model,\n",
        "    tokenizer,\n",
        "    batch_size = 2,\n",
        "    column_text = 'dialogue',\n",
        "    column_summary= 'summary'\n",
        ")\n",
        "\n",
        "rouge_dict = dict((rn,score[rn].mid.fmeasure) for rn in rouge_names)\n",
        "\n",
        "pd.DataFrame(rouge_dict,index=[f'bigbird'])"
      ]
    },
    {
      "cell_type": "code",
      "execution_count": null,
      "metadata": {
        "id": "pt_WEDQ0iykv"
      },
      "outputs": [],
      "source": [
        "model_bigbird.save_pretrained(\"pt_bigbird-samsum-model\")"
      ]
    },
    {
      "cell_type": "code",
      "execution_count": null,
      "metadata": {
        "colab": {
          "base_uri": "https://localhost:8080/"
        },
        "id": "SJW9l4oOi-MD",
        "outputId": "8ac683c2-318a-4cfb-8372-68f84db27c2b"
      },
      "outputs": [],
      "source": [
        "tokenizer.save_pretrained(\"pt_bigbird-samsum-tokenizer\")"
      ]
    },
    {
      "cell_type": "code",
      "execution_count": null,
      "metadata": {
        "id": "Pnx3MFhLjGn3"
      },
      "outputs": [],
      "source": [
        "tokenizer = AutoTokenizer.from_pretrained(\"/content/tokenizer\")"
      ]
    },
    {
      "cell_type": "markdown",
      "metadata": {
        "id": "AvJCkYtcjQ_v"
      },
      "source": [
        "Prediction"
      ]
    },
    {
      "cell_type": "code",
      "execution_count": null,
      "metadata": {
        "id": "zZuIBsvMQ-kL"
      },
      "outputs": [],
      "source": [
        "sample_text = \"\"\"\n",
        "Steve: Welcome back,\n",
        "Brad. This is the second part of our interview, and I want to get through these as quickly as possible because I know you have somewhere to be, so …\n",
        "Brad: Thank you. It's my pleasure.\n",
        "Steve: It says on the website you worked doing graphic design for a local branding agency before branching out and starting your own business. Was … was that\n",
        "Brad: Yes.\n",
        "Steve: So was that a conscious choice, or ...?\n",
        "Brad: Yes. Well, ac\n",
        "Steve: Sorry, uh, one sec. Can you, um ... We can hear the fan.\n",
        "Charlene:\n",
        "Steve: N-no, no, that's perfect. Thanks, Charlene. Good. So, uh, was starting your own company intentional, or did you just sort of fall into it?\n",
        "Brad: Actually, sort of both. I actually started out doing it as a favor for a friend. He … I didn't really know what I was doing at the time, but, uh, at some point I found out I was having some success with that, and, um, so I actually started doing it for local businesses and restaurants, and, uh, so then it kind of took off from there, and then I figured, well, if I'm going to be taking on all these new clients I mi-might as well get a website, you know, going, and make something out of this, you know?\n",
        "Steve: Sure. Sure. So what kind of challenges did you experience when you were starting out, that you weren't expecting?\n",
        "Brad: Hmm, challenges I wasn't expecting. Uh …\n",
        "Steve: [laughs] I keep putting you on the spot. I don't think I put that one in the questions either. We're … we're just ad-libbing here.\n",
        "Brad: N-no, it's fine. So, um, challenges …\n",
        "Steve: Yeah. It could be, like, funding, or anything. So I forgot to ask you earlier, did you bootstrap?\n",
        "Brad: Oh, yeah. Oh, yeah. I had, like, literally, like, $200 in the bank when I started out. And that's Canadian cur… Canadian dollars, so, that's like, what, uh, two cents US? [laughs] Nah, just kidding. Pretty sad though.\n",
        "Steve: Oh, really? Was that\n",
        "Brad: Yeah. Well, and an AdWords credit, maybe $50 or $100 or something like that, but I had no idea what I was doing at the time.\n",
        "Steve: Right. So where did you get ... I guess, how did you get the word out about your business and what you were doing?\n",
        "Brad: Uh ... phew. Well, besides the referrals I was getting, I, um … I actually enlisted my first few clients by this post on Facebook and asking my friend, um ... My one friend, he's got, like, 8,000 Facebook friends and I have, like, two, and one of them's my mom.\n",
        "Steve: [laughing]\n",
        "Brad: No, serious,\n",
        "Steve. So, I actually asked this buddy to help me out and put this, like, thing up for me, and he actually went and … He's [coughs] and he has a lot of friends who do that kind of thing, and so I actually got a few leads out of the deal that I still do work for sometimes, and one of them is actually my biggest client, so yeah.\n",
        "Steve: Nice. Nice.\n",
        "Brad: Yeah. Th-then the other thing I did, actually, was sort of local outreach, uh, with local magazines and newspapers and whatnot, and I got a couple of mentions that way that led to my first \"real\" clients. You know, like ... [clears throat] Not that they weren't real before, but sometimes when they're your friends it kind of feels like they're doing a favor, you know? And yeah, and I did actually have some luck also with networking and meetup groups and stuff like that – you know, local – but, uh, I'm actually a bit of an introvert, so it took me a while to get around to it. [laughs]\n",
        "Steve: No way. I don't believe it. Do you have a Twitter?\n",
        "Brad: Yeah, I have a Twitter. [laughs] \"A Twitter.\" But, uh, I don't think I've ever posted a tweet. I can't even remember my password. I'm too old for that stuff,\n",
        "Steve. I'm pushing 50 next month.\n",
        "Steve: [laughs]\n",
        "Brad: Well,\n",
        "Steve, you know what they say. Nothing beats good old-fashioned PR for a local business. I don't know who \"they\" are.\n",
        "\n",
        "\n",
        "\"\"\""
      ]
    },
    {
      "cell_type": "code",
      "execution_count": null,
      "metadata": {
        "id": "zSbriFCIjQlU"
      },
      "outputs": [],
      "source": [
        "gen_kwargs = {'length_penalty':0.9,'num_beams':16,'max_length':512}\n",
        "\n",
        "sample_text1 = dataset_samsum['test'][0][\"dialogue\"]\n",
        "\n",
        "reference = dataset_samsum['test'][0][\"summary\"]\n",
        "\n",
        "pipe = pipeline(\"summarization\",model=\"bigbird-samsum-model\",tokenizer=tokenizer)\n",
        "\n",
        "print(\"Dialoge:\")\n",
        "print(sample_text)\n",
        "\n",
        "print(\"\\n reference Sumamry:\")\n",
        "print(reference)\n",
        "\n",
        "print(\"\\nModel Summary:\")"
      ]
    },
    {
      "cell_type": "code",
      "execution_count": null,
      "metadata": {
        "colab": {
          "base_uri": "https://localhost:8080/"
        },
        "id": "r_G-MdpXUyTL",
        "outputId": "2c11c474-f3c5-46e0-c3e5-6dcf9fdcfb9e"
      },
      "outputs": [
        {
          "name": "stdout",
          "output_type": "stream",
          "text": [
            "this is the first part of an interview with the owner of a local graphic design business.\n"
          ]
        }
      ],
      "source": [
        "print(pipe(sample_text,**gen_kwargs)[0][\"summary_text\"])"
      ]
    }
  ],
  "metadata": {
    "accelerator": "GPU",
    "colab": {
      "gpuType": "T4",
      "provenance": []
    },
    "kernelspec": {
      "display_name": "Python 3",
      "name": "python3"
    },
    "language_info": {
      "name": "python",
      "version": "3.8.18"
    },
    "widgets": {
      "application/vnd.jupyter.widget-state+json": {
        "012c28dda68542eea5d58a129d95ec09": {
          "model_module": "@jupyter-widgets/controls",
          "model_module_version": "1.5.0",
          "model_name": "DescriptionStyleModel",
          "state": {
            "_model_module": "@jupyter-widgets/controls",
            "_model_module_version": "1.5.0",
            "_model_name": "DescriptionStyleModel",
            "_view_count": null,
            "_view_module": "@jupyter-widgets/base",
            "_view_module_version": "1.2.0",
            "_view_name": "StyleView",
            "description_width": ""
          }
        },
        "081eac225ab8470d9180419f8373cf2b": {
          "model_module": "@jupyter-widgets/base",
          "model_module_version": "1.2.0",
          "model_name": "LayoutModel",
          "state": {
            "_model_module": "@jupyter-widgets/base",
            "_model_module_version": "1.2.0",
            "_model_name": "LayoutModel",
            "_view_count": null,
            "_view_module": "@jupyter-widgets/base",
            "_view_module_version": "1.2.0",
            "_view_name": "LayoutView",
            "align_content": null,
            "align_items": null,
            "align_self": null,
            "border": null,
            "bottom": null,
            "display": null,
            "flex": null,
            "flex_flow": null,
            "grid_area": null,
            "grid_auto_columns": null,
            "grid_auto_flow": null,
            "grid_auto_rows": null,
            "grid_column": null,
            "grid_gap": null,
            "grid_row": null,
            "grid_template_areas": null,
            "grid_template_columns": null,
            "grid_template_rows": null,
            "height": null,
            "justify_content": null,
            "justify_items": null,
            "left": null,
            "margin": null,
            "max_height": null,
            "max_width": null,
            "min_height": null,
            "min_width": null,
            "object_fit": null,
            "object_position": null,
            "order": null,
            "overflow": null,
            "overflow_x": null,
            "overflow_y": null,
            "padding": null,
            "right": null,
            "top": null,
            "visibility": null,
            "width": null
          }
        },
        "13397066635b4dfbb4ef292f701a7157": {
          "model_module": "@jupyter-widgets/controls",
          "model_module_version": "1.5.0",
          "model_name": "ProgressStyleModel",
          "state": {
            "_model_module": "@jupyter-widgets/controls",
            "_model_module_version": "1.5.0",
            "_model_name": "ProgressStyleModel",
            "_view_count": null,
            "_view_module": "@jupyter-widgets/base",
            "_view_module_version": "1.2.0",
            "_view_name": "StyleView",
            "bar_color": null,
            "description_width": ""
          }
        },
        "19971a3cd3e3468fa8c705f370322b9f": {
          "model_module": "@jupyter-widgets/controls",
          "model_module_version": "1.5.0",
          "model_name": "HBoxModel",
          "state": {
            "_dom_classes": [],
            "_model_module": "@jupyter-widgets/controls",
            "_model_module_version": "1.5.0",
            "_model_name": "HBoxModel",
            "_view_count": null,
            "_view_module": "@jupyter-widgets/controls",
            "_view_module_version": "1.5.0",
            "_view_name": "HBoxView",
            "box_style": "",
            "children": [
              "IPY_MODEL_635ae20f2ef246c6ad2305897e604247",
              "IPY_MODEL_4f9595825d2a4b3c9681c8a4daa0b2ea",
              "IPY_MODEL_6d519c452ca64cf6b305bf98d15cb76c"
            ],
            "layout": "IPY_MODEL_f2fb474638674313b610331cca748921"
          }
        },
        "1a7d5bd5ff7a4b77a12dcfa01e9109a3": {
          "model_module": "@jupyter-widgets/base",
          "model_module_version": "1.2.0",
          "model_name": "LayoutModel",
          "state": {
            "_model_module": "@jupyter-widgets/base",
            "_model_module_version": "1.2.0",
            "_model_name": "LayoutModel",
            "_view_count": null,
            "_view_module": "@jupyter-widgets/base",
            "_view_module_version": "1.2.0",
            "_view_name": "LayoutView",
            "align_content": null,
            "align_items": null,
            "align_self": null,
            "border": null,
            "bottom": null,
            "display": null,
            "flex": null,
            "flex_flow": null,
            "grid_area": null,
            "grid_auto_columns": null,
            "grid_auto_flow": null,
            "grid_auto_rows": null,
            "grid_column": null,
            "grid_gap": null,
            "grid_row": null,
            "grid_template_areas": null,
            "grid_template_columns": null,
            "grid_template_rows": null,
            "height": null,
            "justify_content": null,
            "justify_items": null,
            "left": null,
            "margin": null,
            "max_height": null,
            "max_width": null,
            "min_height": null,
            "min_width": null,
            "object_fit": null,
            "object_position": null,
            "order": null,
            "overflow": null,
            "overflow_x": null,
            "overflow_y": null,
            "padding": null,
            "right": null,
            "top": null,
            "visibility": null,
            "width": null
          }
        },
        "21dd8297ed2a4c5db0fcbd54458829e9": {
          "model_module": "@jupyter-widgets/controls",
          "model_module_version": "1.5.0",
          "model_name": "FloatProgressModel",
          "state": {
            "_dom_classes": [],
            "_model_module": "@jupyter-widgets/controls",
            "_model_module_version": "1.5.0",
            "_model_name": "FloatProgressModel",
            "_view_count": null,
            "_view_module": "@jupyter-widgets/controls",
            "_view_module_version": "1.5.0",
            "_view_name": "ProgressView",
            "bar_style": "success",
            "description": "",
            "description_tooltip": null,
            "layout": "IPY_MODEL_3772d32ee34845089425942af4d8a310",
            "max": 14732,
            "min": 0,
            "orientation": "horizontal",
            "style": "IPY_MODEL_98c0d766cb224032b2bcad8099a77acd",
            "value": 14732
          }
        },
        "2691624785694002b46e028e0a52fd05": {
          "model_module": "@jupyter-widgets/controls",
          "model_module_version": "1.5.0",
          "model_name": "HBoxModel",
          "state": {
            "_dom_classes": [],
            "_model_module": "@jupyter-widgets/controls",
            "_model_module_version": "1.5.0",
            "_model_name": "HBoxModel",
            "_view_count": null,
            "_view_module": "@jupyter-widgets/controls",
            "_view_module_version": "1.5.0",
            "_view_name": "HBoxView",
            "box_style": "",
            "children": [
              "IPY_MODEL_b888fcc6c138474fb6331771f9c37fd5",
              "IPY_MODEL_8c95d58f776341fa9bddbd975eda7228",
              "IPY_MODEL_87f15672fa3e433786f642aca4df434a"
            ],
            "layout": "IPY_MODEL_081eac225ab8470d9180419f8373cf2b"
          }
        },
        "2a6f785bf47a46aebc5f19a739a51897": {
          "model_module": "@jupyter-widgets/controls",
          "model_module_version": "1.5.0",
          "model_name": "DescriptionStyleModel",
          "state": {
            "_model_module": "@jupyter-widgets/controls",
            "_model_module_version": "1.5.0",
            "_model_name": "DescriptionStyleModel",
            "_view_count": null,
            "_view_module": "@jupyter-widgets/base",
            "_view_module_version": "1.2.0",
            "_view_name": "StyleView",
            "description_width": ""
          }
        },
        "2a927eecf04044fb953725ddcd2b4e5a": {
          "model_module": "@jupyter-widgets/controls",
          "model_module_version": "1.5.0",
          "model_name": "HTMLModel",
          "state": {
            "_dom_classes": [],
            "_model_module": "@jupyter-widgets/controls",
            "_model_module_version": "1.5.0",
            "_model_name": "HTMLModel",
            "_view_count": null,
            "_view_module": "@jupyter-widgets/controls",
            "_view_module_version": "1.5.0",
            "_view_name": "HTMLView",
            "description": "",
            "description_tooltip": null,
            "layout": "IPY_MODEL_1a7d5bd5ff7a4b77a12dcfa01e9109a3",
            "placeholder": "​",
            "style": "IPY_MODEL_aa012fa3c0764f04b8bc0bdbf3a04b61",
            "value": " 819/819 [00:00&lt;00:00, 1993.95 examples/s]"
          }
        },
        "309838f11b3341349d2da714228d7024": {
          "model_module": "@jupyter-widgets/controls",
          "model_module_version": "1.5.0",
          "model_name": "HTMLModel",
          "state": {
            "_dom_classes": [],
            "_model_module": "@jupyter-widgets/controls",
            "_model_module_version": "1.5.0",
            "_model_name": "HTMLModel",
            "_view_count": null,
            "_view_module": "@jupyter-widgets/controls",
            "_view_module_version": "1.5.0",
            "_view_name": "HTMLView",
            "description": "",
            "description_tooltip": null,
            "layout": "IPY_MODEL_a53083b68fe84574a76f41826a766282",
            "placeholder": "​",
            "style": "IPY_MODEL_d5076724024543b282744ebaea653e62",
            "value": "Map: 100%"
          }
        },
        "31bd8c98cf2d4717abe6131ea57236c8": {
          "model_module": "@jupyter-widgets/base",
          "model_module_version": "1.2.0",
          "model_name": "LayoutModel",
          "state": {
            "_model_module": "@jupyter-widgets/base",
            "_model_module_version": "1.2.0",
            "_model_name": "LayoutModel",
            "_view_count": null,
            "_view_module": "@jupyter-widgets/base",
            "_view_module_version": "1.2.0",
            "_view_name": "LayoutView",
            "align_content": null,
            "align_items": null,
            "align_self": null,
            "border": null,
            "bottom": null,
            "display": null,
            "flex": null,
            "flex_flow": null,
            "grid_area": null,
            "grid_auto_columns": null,
            "grid_auto_flow": null,
            "grid_auto_rows": null,
            "grid_column": null,
            "grid_gap": null,
            "grid_row": null,
            "grid_template_areas": null,
            "grid_template_columns": null,
            "grid_template_rows": null,
            "height": null,
            "justify_content": null,
            "justify_items": null,
            "left": null,
            "margin": null,
            "max_height": null,
            "max_width": null,
            "min_height": null,
            "min_width": null,
            "object_fit": null,
            "object_position": null,
            "order": null,
            "overflow": null,
            "overflow_x": null,
            "overflow_y": null,
            "padding": null,
            "right": null,
            "top": null,
            "visibility": null,
            "width": null
          }
        },
        "35c8052f5ab6417fa8748d3b29675dd7": {
          "model_module": "@jupyter-widgets/controls",
          "model_module_version": "1.5.0",
          "model_name": "DescriptionStyleModel",
          "state": {
            "_model_module": "@jupyter-widgets/controls",
            "_model_module_version": "1.5.0",
            "_model_name": "DescriptionStyleModel",
            "_view_count": null,
            "_view_module": "@jupyter-widgets/base",
            "_view_module_version": "1.2.0",
            "_view_name": "StyleView",
            "description_width": ""
          }
        },
        "3691ab71e8c641edba9ef09c32a052e9": {
          "model_module": "@jupyter-widgets/base",
          "model_module_version": "1.2.0",
          "model_name": "LayoutModel",
          "state": {
            "_model_module": "@jupyter-widgets/base",
            "_model_module_version": "1.2.0",
            "_model_name": "LayoutModel",
            "_view_count": null,
            "_view_module": "@jupyter-widgets/base",
            "_view_module_version": "1.2.0",
            "_view_name": "LayoutView",
            "align_content": null,
            "align_items": null,
            "align_self": null,
            "border": null,
            "bottom": null,
            "display": null,
            "flex": null,
            "flex_flow": null,
            "grid_area": null,
            "grid_auto_columns": null,
            "grid_auto_flow": null,
            "grid_auto_rows": null,
            "grid_column": null,
            "grid_gap": null,
            "grid_row": null,
            "grid_template_areas": null,
            "grid_template_columns": null,
            "grid_template_rows": null,
            "height": null,
            "justify_content": null,
            "justify_items": null,
            "left": null,
            "margin": null,
            "max_height": null,
            "max_width": null,
            "min_height": null,
            "min_width": null,
            "object_fit": null,
            "object_position": null,
            "order": null,
            "overflow": null,
            "overflow_x": null,
            "overflow_y": null,
            "padding": null,
            "right": null,
            "top": null,
            "visibility": null,
            "width": null
          }
        },
        "3772d32ee34845089425942af4d8a310": {
          "model_module": "@jupyter-widgets/base",
          "model_module_version": "1.2.0",
          "model_name": "LayoutModel",
          "state": {
            "_model_module": "@jupyter-widgets/base",
            "_model_module_version": "1.2.0",
            "_model_name": "LayoutModel",
            "_view_count": null,
            "_view_module": "@jupyter-widgets/base",
            "_view_module_version": "1.2.0",
            "_view_name": "LayoutView",
            "align_content": null,
            "align_items": null,
            "align_self": null,
            "border": null,
            "bottom": null,
            "display": null,
            "flex": null,
            "flex_flow": null,
            "grid_area": null,
            "grid_auto_columns": null,
            "grid_auto_flow": null,
            "grid_auto_rows": null,
            "grid_column": null,
            "grid_gap": null,
            "grid_row": null,
            "grid_template_areas": null,
            "grid_template_columns": null,
            "grid_template_rows": null,
            "height": null,
            "justify_content": null,
            "justify_items": null,
            "left": null,
            "margin": null,
            "max_height": null,
            "max_width": null,
            "min_height": null,
            "min_width": null,
            "object_fit": null,
            "object_position": null,
            "order": null,
            "overflow": null,
            "overflow_x": null,
            "overflow_y": null,
            "padding": null,
            "right": null,
            "top": null,
            "visibility": null,
            "width": null
          }
        },
        "39b63cb3c98548649983c9037596c9b6": {
          "model_module": "@jupyter-widgets/base",
          "model_module_version": "1.2.0",
          "model_name": "LayoutModel",
          "state": {
            "_model_module": "@jupyter-widgets/base",
            "_model_module_version": "1.2.0",
            "_model_name": "LayoutModel",
            "_view_count": null,
            "_view_module": "@jupyter-widgets/base",
            "_view_module_version": "1.2.0",
            "_view_name": "LayoutView",
            "align_content": null,
            "align_items": null,
            "align_self": null,
            "border": null,
            "bottom": null,
            "display": null,
            "flex": null,
            "flex_flow": null,
            "grid_area": null,
            "grid_auto_columns": null,
            "grid_auto_flow": null,
            "grid_auto_rows": null,
            "grid_column": null,
            "grid_gap": null,
            "grid_row": null,
            "grid_template_areas": null,
            "grid_template_columns": null,
            "grid_template_rows": null,
            "height": null,
            "justify_content": null,
            "justify_items": null,
            "left": null,
            "margin": null,
            "max_height": null,
            "max_width": null,
            "min_height": null,
            "min_width": null,
            "object_fit": null,
            "object_position": null,
            "order": null,
            "overflow": null,
            "overflow_x": null,
            "overflow_y": null,
            "padding": null,
            "right": null,
            "top": null,
            "visibility": null,
            "width": null
          }
        },
        "39b75f13bda5450ea6bdb21b266ad306": {
          "model_module": "@jupyter-widgets/controls",
          "model_module_version": "1.5.0",
          "model_name": "HTMLModel",
          "state": {
            "_dom_classes": [],
            "_model_module": "@jupyter-widgets/controls",
            "_model_module_version": "1.5.0",
            "_model_name": "HTMLModel",
            "_view_count": null,
            "_view_module": "@jupyter-widgets/controls",
            "_view_module_version": "1.5.0",
            "_view_name": "HTMLView",
            "description": "",
            "description_tooltip": null,
            "layout": "IPY_MODEL_cb8e309e5c374ca8aa3eea735fee53a7",
            "placeholder": "​",
            "style": "IPY_MODEL_8a5b669561094b59adb3ef9c8b3acc50",
            "value": "Map: 100%"
          }
        },
        "3cf69bcc15f34d6da5a2753c31c5a465": {
          "model_module": "@jupyter-widgets/controls",
          "model_module_version": "1.5.0",
          "model_name": "HTMLModel",
          "state": {
            "_dom_classes": [],
            "_model_module": "@jupyter-widgets/controls",
            "_model_module_version": "1.5.0",
            "_model_name": "HTMLModel",
            "_view_count": null,
            "_view_module": "@jupyter-widgets/controls",
            "_view_module_version": "1.5.0",
            "_view_name": "HTMLView",
            "description": "",
            "description_tooltip": null,
            "layout": "IPY_MODEL_a220bcc96556483697c65db32d8211fc",
            "placeholder": "​",
            "style": "IPY_MODEL_cb1db5c67ce54eeca47bef8882c502c3",
            "value": " 818/818 [00:00&lt;00:00, 2098.12 examples/s]"
          }
        },
        "3fda4e95246c40dea5345cb81123ad26": {
          "model_module": "@jupyter-widgets/controls",
          "model_module_version": "1.5.0",
          "model_name": "HTMLModel",
          "state": {
            "_dom_classes": [],
            "_model_module": "@jupyter-widgets/controls",
            "_model_module_version": "1.5.0",
            "_model_name": "HTMLModel",
            "_view_count": null,
            "_view_module": "@jupyter-widgets/controls",
            "_view_module_version": "1.5.0",
            "_view_name": "HTMLView",
            "description": "",
            "description_tooltip": null,
            "layout": "IPY_MODEL_8b4f20a9fcbb4da8af298606023ba2ee",
            "placeholder": "​",
            "style": "IPY_MODEL_f1dd1aa1de9644ee8decc71caf6479ba",
            "value": " 14732/14732 [00:09&lt;00:00, 1702.72 examples/s]"
          }
        },
        "4367e4452266477189fd1d6fcbedef2c": {
          "model_module": "@jupyter-widgets/controls",
          "model_module_version": "1.5.0",
          "model_name": "HTMLModel",
          "state": {
            "_dom_classes": [],
            "_model_module": "@jupyter-widgets/controls",
            "_model_module_version": "1.5.0",
            "_model_name": "HTMLModel",
            "_view_count": null,
            "_view_module": "@jupyter-widgets/controls",
            "_view_module_version": "1.5.0",
            "_view_name": "HTMLView",
            "description": "",
            "description_tooltip": null,
            "layout": "IPY_MODEL_3691ab71e8c641edba9ef09c32a052e9",
            "placeholder": "​",
            "style": "IPY_MODEL_8016054d214a43648b3bcb861048c86c",
            "value": "Map: 100%"
          }
        },
        "4f9595825d2a4b3c9681c8a4daa0b2ea": {
          "model_module": "@jupyter-widgets/controls",
          "model_module_version": "1.5.0",
          "model_name": "FloatProgressModel",
          "state": {
            "_dom_classes": [],
            "_model_module": "@jupyter-widgets/controls",
            "_model_module_version": "1.5.0",
            "_model_name": "FloatProgressModel",
            "_view_count": null,
            "_view_module": "@jupyter-widgets/controls",
            "_view_module_version": "1.5.0",
            "_view_name": "ProgressView",
            "bar_style": "success",
            "description": "",
            "description_tooltip": null,
            "layout": "IPY_MODEL_e24cfd7d98a548769b648eed00c1b59e",
            "max": 862,
            "min": 0,
            "orientation": "horizontal",
            "style": "IPY_MODEL_f3c5a04dfc404c59b722cb196074de90",
            "value": 862
          }
        },
        "5220ac5a64ad4a13a63961dc19f8146e": {
          "model_module": "@jupyter-widgets/controls",
          "model_module_version": "1.5.0",
          "model_name": "FloatProgressModel",
          "state": {
            "_dom_classes": [],
            "_model_module": "@jupyter-widgets/controls",
            "_model_module_version": "1.5.0",
            "_model_name": "FloatProgressModel",
            "_view_count": null,
            "_view_module": "@jupyter-widgets/controls",
            "_view_module_version": "1.5.0",
            "_view_name": "ProgressView",
            "bar_style": "success",
            "description": "",
            "description_tooltip": null,
            "layout": "IPY_MODEL_f8de0d7e4f584af694a22e5b1b532ced",
            "max": 818,
            "min": 0,
            "orientation": "horizontal",
            "style": "IPY_MODEL_867b0fec17e84f738eaf7eabc6d05647",
            "value": 818
          }
        },
        "5503648716704f24970ac0c66532d5c8": {
          "model_module": "@jupyter-widgets/base",
          "model_module_version": "1.2.0",
          "model_name": "LayoutModel",
          "state": {
            "_model_module": "@jupyter-widgets/base",
            "_model_module_version": "1.2.0",
            "_model_name": "LayoutModel",
            "_view_count": null,
            "_view_module": "@jupyter-widgets/base",
            "_view_module_version": "1.2.0",
            "_view_name": "LayoutView",
            "align_content": null,
            "align_items": null,
            "align_self": null,
            "border": null,
            "bottom": null,
            "display": null,
            "flex": null,
            "flex_flow": null,
            "grid_area": null,
            "grid_auto_columns": null,
            "grid_auto_flow": null,
            "grid_auto_rows": null,
            "grid_column": null,
            "grid_gap": null,
            "grid_row": null,
            "grid_template_areas": null,
            "grid_template_columns": null,
            "grid_template_rows": null,
            "height": null,
            "justify_content": null,
            "justify_items": null,
            "left": null,
            "margin": null,
            "max_height": null,
            "max_width": null,
            "min_height": null,
            "min_width": null,
            "object_fit": null,
            "object_position": null,
            "order": null,
            "overflow": null,
            "overflow_x": null,
            "overflow_y": null,
            "padding": null,
            "right": null,
            "top": null,
            "visibility": null,
            "width": null
          }
        },
        "56db6a28ee344c6d8292e0f5df2c4102": {
          "model_module": "@jupyter-widgets/controls",
          "model_module_version": "1.5.0",
          "model_name": "DescriptionStyleModel",
          "state": {
            "_model_module": "@jupyter-widgets/controls",
            "_model_module_version": "1.5.0",
            "_model_name": "DescriptionStyleModel",
            "_view_count": null,
            "_view_module": "@jupyter-widgets/base",
            "_view_module_version": "1.2.0",
            "_view_name": "StyleView",
            "description_width": ""
          }
        },
        "635ae20f2ef246c6ad2305897e604247": {
          "model_module": "@jupyter-widgets/controls",
          "model_module_version": "1.5.0",
          "model_name": "HTMLModel",
          "state": {
            "_dom_classes": [],
            "_model_module": "@jupyter-widgets/controls",
            "_model_module_version": "1.5.0",
            "_model_name": "HTMLModel",
            "_view_count": null,
            "_view_module": "@jupyter-widgets/controls",
            "_view_module_version": "1.5.0",
            "_view_name": "HTMLView",
            "description": "",
            "description_tooltip": null,
            "layout": "IPY_MODEL_e54a98e754604fafb6e99191811d3ccc",
            "placeholder": "​",
            "style": "IPY_MODEL_2a6f785bf47a46aebc5f19a739a51897",
            "value": "Map: 100%"
          }
        },
        "6aa3307aa538482f955de3165974d829": {
          "model_module": "@jupyter-widgets/controls",
          "model_module_version": "1.5.0",
          "model_name": "ProgressStyleModel",
          "state": {
            "_model_module": "@jupyter-widgets/controls",
            "_model_module_version": "1.5.0",
            "_model_name": "ProgressStyleModel",
            "_view_count": null,
            "_view_module": "@jupyter-widgets/base",
            "_view_module_version": "1.2.0",
            "_view_name": "StyleView",
            "bar_color": null,
            "description_width": ""
          }
        },
        "6d519c452ca64cf6b305bf98d15cb76c": {
          "model_module": "@jupyter-widgets/controls",
          "model_module_version": "1.5.0",
          "model_name": "HTMLModel",
          "state": {
            "_dom_classes": [],
            "_model_module": "@jupyter-widgets/controls",
            "_model_module_version": "1.5.0",
            "_model_name": "HTMLModel",
            "_view_count": null,
            "_view_module": "@jupyter-widgets/controls",
            "_view_module_version": "1.5.0",
            "_view_name": "HTMLView",
            "description": "",
            "description_tooltip": null,
            "layout": "IPY_MODEL_a5dcd67ec5794ed5a1ac435a6d97efe6",
            "placeholder": "​",
            "style": "IPY_MODEL_35c8052f5ab6417fa8748d3b29675dd7",
            "value": " 862/862 [00:12&lt;00:00, 71.12 examples/s]"
          }
        },
        "6e84d84ccd9c4bb6ad3cd0e844877f5d": {
          "model_module": "@jupyter-widgets/controls",
          "model_module_version": "1.5.0",
          "model_name": "HBoxModel",
          "state": {
            "_dom_classes": [],
            "_model_module": "@jupyter-widgets/controls",
            "_model_module_version": "1.5.0",
            "_model_name": "HBoxModel",
            "_view_count": null,
            "_view_module": "@jupyter-widgets/controls",
            "_view_module_version": "1.5.0",
            "_view_name": "HBoxView",
            "box_style": "",
            "children": [
              "IPY_MODEL_309838f11b3341349d2da714228d7024",
              "IPY_MODEL_21dd8297ed2a4c5db0fcbd54458829e9",
              "IPY_MODEL_3fda4e95246c40dea5345cb81123ad26"
            ],
            "layout": "IPY_MODEL_83e22dc6f67f488393fba4f07e7b55f8"
          }
        },
        "7f5492cc4a114bfcacccea72367c3916": {
          "model_module": "@jupyter-widgets/controls",
          "model_module_version": "1.5.0",
          "model_name": "FloatProgressModel",
          "state": {
            "_dom_classes": [],
            "_model_module": "@jupyter-widgets/controls",
            "_model_module_version": "1.5.0",
            "_model_name": "FloatProgressModel",
            "_view_count": null,
            "_view_module": "@jupyter-widgets/controls",
            "_view_module_version": "1.5.0",
            "_view_name": "ProgressView",
            "bar_style": "success",
            "description": "",
            "description_tooltip": null,
            "layout": "IPY_MODEL_a47a90e40b6b461283a4eb7358b41b03",
            "max": 819,
            "min": 0,
            "orientation": "horizontal",
            "style": "IPY_MODEL_13397066635b4dfbb4ef292f701a7157",
            "value": 819
          }
        },
        "8016054d214a43648b3bcb861048c86c": {
          "model_module": "@jupyter-widgets/controls",
          "model_module_version": "1.5.0",
          "model_name": "DescriptionStyleModel",
          "state": {
            "_model_module": "@jupyter-widgets/controls",
            "_model_module_version": "1.5.0",
            "_model_name": "DescriptionStyleModel",
            "_view_count": null,
            "_view_module": "@jupyter-widgets/base",
            "_view_module_version": "1.2.0",
            "_view_name": "StyleView",
            "description_width": ""
          }
        },
        "83e22dc6f67f488393fba4f07e7b55f8": {
          "model_module": "@jupyter-widgets/base",
          "model_module_version": "1.2.0",
          "model_name": "LayoutModel",
          "state": {
            "_model_module": "@jupyter-widgets/base",
            "_model_module_version": "1.2.0",
            "_model_name": "LayoutModel",
            "_view_count": null,
            "_view_module": "@jupyter-widgets/base",
            "_view_module_version": "1.2.0",
            "_view_name": "LayoutView",
            "align_content": null,
            "align_items": null,
            "align_self": null,
            "border": null,
            "bottom": null,
            "display": null,
            "flex": null,
            "flex_flow": null,
            "grid_area": null,
            "grid_auto_columns": null,
            "grid_auto_flow": null,
            "grid_auto_rows": null,
            "grid_column": null,
            "grid_gap": null,
            "grid_row": null,
            "grid_template_areas": null,
            "grid_template_columns": null,
            "grid_template_rows": null,
            "height": null,
            "justify_content": null,
            "justify_items": null,
            "left": null,
            "margin": null,
            "max_height": null,
            "max_width": null,
            "min_height": null,
            "min_width": null,
            "object_fit": null,
            "object_position": null,
            "order": null,
            "overflow": null,
            "overflow_x": null,
            "overflow_y": null,
            "padding": null,
            "right": null,
            "top": null,
            "visibility": null,
            "width": null
          }
        },
        "85e8b40ab8b04dc5b20fddbfb3fd009e": {
          "model_module": "@jupyter-widgets/base",
          "model_module_version": "1.2.0",
          "model_name": "LayoutModel",
          "state": {
            "_model_module": "@jupyter-widgets/base",
            "_model_module_version": "1.2.0",
            "_model_name": "LayoutModel",
            "_view_count": null,
            "_view_module": "@jupyter-widgets/base",
            "_view_module_version": "1.2.0",
            "_view_name": "LayoutView",
            "align_content": null,
            "align_items": null,
            "align_self": null,
            "border": null,
            "bottom": null,
            "display": null,
            "flex": null,
            "flex_flow": null,
            "grid_area": null,
            "grid_auto_columns": null,
            "grid_auto_flow": null,
            "grid_auto_rows": null,
            "grid_column": null,
            "grid_gap": null,
            "grid_row": null,
            "grid_template_areas": null,
            "grid_template_columns": null,
            "grid_template_rows": null,
            "height": null,
            "justify_content": null,
            "justify_items": null,
            "left": null,
            "margin": null,
            "max_height": null,
            "max_width": null,
            "min_height": null,
            "min_width": null,
            "object_fit": null,
            "object_position": null,
            "order": null,
            "overflow": null,
            "overflow_x": null,
            "overflow_y": null,
            "padding": null,
            "right": null,
            "top": null,
            "visibility": null,
            "width": null
          }
        },
        "867b0fec17e84f738eaf7eabc6d05647": {
          "model_module": "@jupyter-widgets/controls",
          "model_module_version": "1.5.0",
          "model_name": "ProgressStyleModel",
          "state": {
            "_model_module": "@jupyter-widgets/controls",
            "_model_module_version": "1.5.0",
            "_model_name": "ProgressStyleModel",
            "_view_count": null,
            "_view_module": "@jupyter-widgets/base",
            "_view_module_version": "1.2.0",
            "_view_name": "StyleView",
            "bar_color": null,
            "description_width": ""
          }
        },
        "87f15672fa3e433786f642aca4df434a": {
          "model_module": "@jupyter-widgets/controls",
          "model_module_version": "1.5.0",
          "model_name": "HTMLModel",
          "state": {
            "_dom_classes": [],
            "_model_module": "@jupyter-widgets/controls",
            "_model_module_version": "1.5.0",
            "_model_name": "HTMLModel",
            "_view_count": null,
            "_view_module": "@jupyter-widgets/controls",
            "_view_module_version": "1.5.0",
            "_view_name": "HTMLView",
            "description": "",
            "description_tooltip": null,
            "layout": "IPY_MODEL_31bd8c98cf2d4717abe6131ea57236c8",
            "placeholder": "​",
            "style": "IPY_MODEL_56db6a28ee344c6d8292e0f5df2c4102",
            "value": " 861/861 [00:12&lt;00:00, 69.20 examples/s]"
          }
        },
        "8941810726684d1191548b3c2214f9af": {
          "model_module": "@jupyter-widgets/controls",
          "model_module_version": "1.5.0",
          "model_name": "ProgressStyleModel",
          "state": {
            "_model_module": "@jupyter-widgets/controls",
            "_model_module_version": "1.5.0",
            "_model_name": "ProgressStyleModel",
            "_view_count": null,
            "_view_module": "@jupyter-widgets/base",
            "_view_module_version": "1.2.0",
            "_view_name": "StyleView",
            "bar_color": null,
            "description_width": ""
          }
        },
        "8a5b669561094b59adb3ef9c8b3acc50": {
          "model_module": "@jupyter-widgets/controls",
          "model_module_version": "1.5.0",
          "model_name": "DescriptionStyleModel",
          "state": {
            "_model_module": "@jupyter-widgets/controls",
            "_model_module_version": "1.5.0",
            "_model_name": "DescriptionStyleModel",
            "_view_count": null,
            "_view_module": "@jupyter-widgets/base",
            "_view_module_version": "1.2.0",
            "_view_name": "StyleView",
            "description_width": ""
          }
        },
        "8b4f20a9fcbb4da8af298606023ba2ee": {
          "model_module": "@jupyter-widgets/base",
          "model_module_version": "1.2.0",
          "model_name": "LayoutModel",
          "state": {
            "_model_module": "@jupyter-widgets/base",
            "_model_module_version": "1.2.0",
            "_model_name": "LayoutModel",
            "_view_count": null,
            "_view_module": "@jupyter-widgets/base",
            "_view_module_version": "1.2.0",
            "_view_name": "LayoutView",
            "align_content": null,
            "align_items": null,
            "align_self": null,
            "border": null,
            "bottom": null,
            "display": null,
            "flex": null,
            "flex_flow": null,
            "grid_area": null,
            "grid_auto_columns": null,
            "grid_auto_flow": null,
            "grid_auto_rows": null,
            "grid_column": null,
            "grid_gap": null,
            "grid_row": null,
            "grid_template_areas": null,
            "grid_template_columns": null,
            "grid_template_rows": null,
            "height": null,
            "justify_content": null,
            "justify_items": null,
            "left": null,
            "margin": null,
            "max_height": null,
            "max_width": null,
            "min_height": null,
            "min_width": null,
            "object_fit": null,
            "object_position": null,
            "order": null,
            "overflow": null,
            "overflow_x": null,
            "overflow_y": null,
            "padding": null,
            "right": null,
            "top": null,
            "visibility": null,
            "width": null
          }
        },
        "8be56c6873094c73ab0a79a22e33ea19": {
          "model_module": "@jupyter-widgets/controls",
          "model_module_version": "1.5.0",
          "model_name": "HBoxModel",
          "state": {
            "_dom_classes": [],
            "_model_module": "@jupyter-widgets/controls",
            "_model_module_version": "1.5.0",
            "_model_name": "HBoxModel",
            "_view_count": null,
            "_view_module": "@jupyter-widgets/controls",
            "_view_module_version": "1.5.0",
            "_view_name": "HBoxView",
            "box_style": "",
            "children": [
              "IPY_MODEL_4367e4452266477189fd1d6fcbedef2c",
              "IPY_MODEL_8f20b2e8467e43f5b688dcfb7c26eb2a",
              "IPY_MODEL_d6b0493e6d194ba09955a13ce9a0e42c"
            ],
            "layout": "IPY_MODEL_910c6d41f2f14daea112d5fd7a3bb4ee"
          }
        },
        "8c95d58f776341fa9bddbd975eda7228": {
          "model_module": "@jupyter-widgets/controls",
          "model_module_version": "1.5.0",
          "model_name": "FloatProgressModel",
          "state": {
            "_dom_classes": [],
            "_model_module": "@jupyter-widgets/controls",
            "_model_module_version": "1.5.0",
            "_model_name": "FloatProgressModel",
            "_view_count": null,
            "_view_module": "@jupyter-widgets/controls",
            "_view_module_version": "1.5.0",
            "_view_name": "ProgressView",
            "bar_style": "success",
            "description": "",
            "description_tooltip": null,
            "layout": "IPY_MODEL_85e8b40ab8b04dc5b20fddbfb3fd009e",
            "max": 861,
            "min": 0,
            "orientation": "horizontal",
            "style": "IPY_MODEL_6aa3307aa538482f955de3165974d829",
            "value": 861
          }
        },
        "8f20b2e8467e43f5b688dcfb7c26eb2a": {
          "model_module": "@jupyter-widgets/controls",
          "model_module_version": "1.5.0",
          "model_name": "FloatProgressModel",
          "state": {
            "_dom_classes": [],
            "_model_module": "@jupyter-widgets/controls",
            "_model_module_version": "1.5.0",
            "_model_name": "FloatProgressModel",
            "_view_count": null,
            "_view_module": "@jupyter-widgets/controls",
            "_view_module_version": "1.5.0",
            "_view_name": "ProgressView",
            "bar_style": "success",
            "description": "",
            "description_tooltip": null,
            "layout": "IPY_MODEL_b9bfd1e1f9de4b0bb1ca016611563f45",
            "max": 5169,
            "min": 0,
            "orientation": "horizontal",
            "style": "IPY_MODEL_8941810726684d1191548b3c2214f9af",
            "value": 5169
          }
        },
        "910c6d41f2f14daea112d5fd7a3bb4ee": {
          "model_module": "@jupyter-widgets/base",
          "model_module_version": "1.2.0",
          "model_name": "LayoutModel",
          "state": {
            "_model_module": "@jupyter-widgets/base",
            "_model_module_version": "1.2.0",
            "_model_name": "LayoutModel",
            "_view_count": null,
            "_view_module": "@jupyter-widgets/base",
            "_view_module_version": "1.2.0",
            "_view_name": "LayoutView",
            "align_content": null,
            "align_items": null,
            "align_self": null,
            "border": null,
            "bottom": null,
            "display": null,
            "flex": null,
            "flex_flow": null,
            "grid_area": null,
            "grid_auto_columns": null,
            "grid_auto_flow": null,
            "grid_auto_rows": null,
            "grid_column": null,
            "grid_gap": null,
            "grid_row": null,
            "grid_template_areas": null,
            "grid_template_columns": null,
            "grid_template_rows": null,
            "height": null,
            "justify_content": null,
            "justify_items": null,
            "left": null,
            "margin": null,
            "max_height": null,
            "max_width": null,
            "min_height": null,
            "min_width": null,
            "object_fit": null,
            "object_position": null,
            "order": null,
            "overflow": null,
            "overflow_x": null,
            "overflow_y": null,
            "padding": null,
            "right": null,
            "top": null,
            "visibility": null,
            "width": null
          }
        },
        "98c0d766cb224032b2bcad8099a77acd": {
          "model_module": "@jupyter-widgets/controls",
          "model_module_version": "1.5.0",
          "model_name": "ProgressStyleModel",
          "state": {
            "_model_module": "@jupyter-widgets/controls",
            "_model_module_version": "1.5.0",
            "_model_name": "ProgressStyleModel",
            "_view_count": null,
            "_view_module": "@jupyter-widgets/base",
            "_view_module_version": "1.2.0",
            "_view_name": "StyleView",
            "bar_color": null,
            "description_width": ""
          }
        },
        "9e68ae9ea8b2474bb00822494c672598": {
          "model_module": "@jupyter-widgets/controls",
          "model_module_version": "1.5.0",
          "model_name": "DescriptionStyleModel",
          "state": {
            "_model_module": "@jupyter-widgets/controls",
            "_model_module_version": "1.5.0",
            "_model_name": "DescriptionStyleModel",
            "_view_count": null,
            "_view_module": "@jupyter-widgets/base",
            "_view_module_version": "1.2.0",
            "_view_name": "StyleView",
            "description_width": ""
          }
        },
        "9f4925cd10b048cb82faecf9e4cbb009": {
          "model_module": "@jupyter-widgets/base",
          "model_module_version": "1.2.0",
          "model_name": "LayoutModel",
          "state": {
            "_model_module": "@jupyter-widgets/base",
            "_model_module_version": "1.2.0",
            "_model_name": "LayoutModel",
            "_view_count": null,
            "_view_module": "@jupyter-widgets/base",
            "_view_module_version": "1.2.0",
            "_view_name": "LayoutView",
            "align_content": null,
            "align_items": null,
            "align_self": null,
            "border": null,
            "bottom": null,
            "display": null,
            "flex": null,
            "flex_flow": null,
            "grid_area": null,
            "grid_auto_columns": null,
            "grid_auto_flow": null,
            "grid_auto_rows": null,
            "grid_column": null,
            "grid_gap": null,
            "grid_row": null,
            "grid_template_areas": null,
            "grid_template_columns": null,
            "grid_template_rows": null,
            "height": null,
            "justify_content": null,
            "justify_items": null,
            "left": null,
            "margin": null,
            "max_height": null,
            "max_width": null,
            "min_height": null,
            "min_width": null,
            "object_fit": null,
            "object_position": null,
            "order": null,
            "overflow": null,
            "overflow_x": null,
            "overflow_y": null,
            "padding": null,
            "right": null,
            "top": null,
            "visibility": null,
            "width": null
          }
        },
        "a220bcc96556483697c65db32d8211fc": {
          "model_module": "@jupyter-widgets/base",
          "model_module_version": "1.2.0",
          "model_name": "LayoutModel",
          "state": {
            "_model_module": "@jupyter-widgets/base",
            "_model_module_version": "1.2.0",
            "_model_name": "LayoutModel",
            "_view_count": null,
            "_view_module": "@jupyter-widgets/base",
            "_view_module_version": "1.2.0",
            "_view_name": "LayoutView",
            "align_content": null,
            "align_items": null,
            "align_self": null,
            "border": null,
            "bottom": null,
            "display": null,
            "flex": null,
            "flex_flow": null,
            "grid_area": null,
            "grid_auto_columns": null,
            "grid_auto_flow": null,
            "grid_auto_rows": null,
            "grid_column": null,
            "grid_gap": null,
            "grid_row": null,
            "grid_template_areas": null,
            "grid_template_columns": null,
            "grid_template_rows": null,
            "height": null,
            "justify_content": null,
            "justify_items": null,
            "left": null,
            "margin": null,
            "max_height": null,
            "max_width": null,
            "min_height": null,
            "min_width": null,
            "object_fit": null,
            "object_position": null,
            "order": null,
            "overflow": null,
            "overflow_x": null,
            "overflow_y": null,
            "padding": null,
            "right": null,
            "top": null,
            "visibility": null,
            "width": null
          }
        },
        "a47a90e40b6b461283a4eb7358b41b03": {
          "model_module": "@jupyter-widgets/base",
          "model_module_version": "1.2.0",
          "model_name": "LayoutModel",
          "state": {
            "_model_module": "@jupyter-widgets/base",
            "_model_module_version": "1.2.0",
            "_model_name": "LayoutModel",
            "_view_count": null,
            "_view_module": "@jupyter-widgets/base",
            "_view_module_version": "1.2.0",
            "_view_name": "LayoutView",
            "align_content": null,
            "align_items": null,
            "align_self": null,
            "border": null,
            "bottom": null,
            "display": null,
            "flex": null,
            "flex_flow": null,
            "grid_area": null,
            "grid_auto_columns": null,
            "grid_auto_flow": null,
            "grid_auto_rows": null,
            "grid_column": null,
            "grid_gap": null,
            "grid_row": null,
            "grid_template_areas": null,
            "grid_template_columns": null,
            "grid_template_rows": null,
            "height": null,
            "justify_content": null,
            "justify_items": null,
            "left": null,
            "margin": null,
            "max_height": null,
            "max_width": null,
            "min_height": null,
            "min_width": null,
            "object_fit": null,
            "object_position": null,
            "order": null,
            "overflow": null,
            "overflow_x": null,
            "overflow_y": null,
            "padding": null,
            "right": null,
            "top": null,
            "visibility": null,
            "width": null
          }
        },
        "a53083b68fe84574a76f41826a766282": {
          "model_module": "@jupyter-widgets/base",
          "model_module_version": "1.2.0",
          "model_name": "LayoutModel",
          "state": {
            "_model_module": "@jupyter-widgets/base",
            "_model_module_version": "1.2.0",
            "_model_name": "LayoutModel",
            "_view_count": null,
            "_view_module": "@jupyter-widgets/base",
            "_view_module_version": "1.2.0",
            "_view_name": "LayoutView",
            "align_content": null,
            "align_items": null,
            "align_self": null,
            "border": null,
            "bottom": null,
            "display": null,
            "flex": null,
            "flex_flow": null,
            "grid_area": null,
            "grid_auto_columns": null,
            "grid_auto_flow": null,
            "grid_auto_rows": null,
            "grid_column": null,
            "grid_gap": null,
            "grid_row": null,
            "grid_template_areas": null,
            "grid_template_columns": null,
            "grid_template_rows": null,
            "height": null,
            "justify_content": null,
            "justify_items": null,
            "left": null,
            "margin": null,
            "max_height": null,
            "max_width": null,
            "min_height": null,
            "min_width": null,
            "object_fit": null,
            "object_position": null,
            "order": null,
            "overflow": null,
            "overflow_x": null,
            "overflow_y": null,
            "padding": null,
            "right": null,
            "top": null,
            "visibility": null,
            "width": null
          }
        },
        "a5dcd67ec5794ed5a1ac435a6d97efe6": {
          "model_module": "@jupyter-widgets/base",
          "model_module_version": "1.2.0",
          "model_name": "LayoutModel",
          "state": {
            "_model_module": "@jupyter-widgets/base",
            "_model_module_version": "1.2.0",
            "_model_name": "LayoutModel",
            "_view_count": null,
            "_view_module": "@jupyter-widgets/base",
            "_view_module_version": "1.2.0",
            "_view_name": "LayoutView",
            "align_content": null,
            "align_items": null,
            "align_self": null,
            "border": null,
            "bottom": null,
            "display": null,
            "flex": null,
            "flex_flow": null,
            "grid_area": null,
            "grid_auto_columns": null,
            "grid_auto_flow": null,
            "grid_auto_rows": null,
            "grid_column": null,
            "grid_gap": null,
            "grid_row": null,
            "grid_template_areas": null,
            "grid_template_columns": null,
            "grid_template_rows": null,
            "height": null,
            "justify_content": null,
            "justify_items": null,
            "left": null,
            "margin": null,
            "max_height": null,
            "max_width": null,
            "min_height": null,
            "min_width": null,
            "object_fit": null,
            "object_position": null,
            "order": null,
            "overflow": null,
            "overflow_x": null,
            "overflow_y": null,
            "padding": null,
            "right": null,
            "top": null,
            "visibility": null,
            "width": null
          }
        },
        "aa012fa3c0764f04b8bc0bdbf3a04b61": {
          "model_module": "@jupyter-widgets/controls",
          "model_module_version": "1.5.0",
          "model_name": "DescriptionStyleModel",
          "state": {
            "_model_module": "@jupyter-widgets/controls",
            "_model_module_version": "1.5.0",
            "_model_name": "DescriptionStyleModel",
            "_view_count": null,
            "_view_module": "@jupyter-widgets/base",
            "_view_module_version": "1.2.0",
            "_view_name": "StyleView",
            "description_width": ""
          }
        },
        "b888fcc6c138474fb6331771f9c37fd5": {
          "model_module": "@jupyter-widgets/controls",
          "model_module_version": "1.5.0",
          "model_name": "HTMLModel",
          "state": {
            "_dom_classes": [],
            "_model_module": "@jupyter-widgets/controls",
            "_model_module_version": "1.5.0",
            "_model_name": "HTMLModel",
            "_view_count": null,
            "_view_module": "@jupyter-widgets/controls",
            "_view_module_version": "1.5.0",
            "_view_name": "HTMLView",
            "description": "",
            "description_tooltip": null,
            "layout": "IPY_MODEL_5503648716704f24970ac0c66532d5c8",
            "placeholder": "​",
            "style": "IPY_MODEL_012c28dda68542eea5d58a129d95ec09",
            "value": "Map: 100%"
          }
        },
        "b92acf9303e547c88ecf536eccaf1133": {
          "model_module": "@jupyter-widgets/controls",
          "model_module_version": "1.5.0",
          "model_name": "HBoxModel",
          "state": {
            "_dom_classes": [],
            "_model_module": "@jupyter-widgets/controls",
            "_model_module_version": "1.5.0",
            "_model_name": "HBoxModel",
            "_view_count": null,
            "_view_module": "@jupyter-widgets/controls",
            "_view_module_version": "1.5.0",
            "_view_name": "HBoxView",
            "box_style": "",
            "children": [
              "IPY_MODEL_df9a930254b441cc99fc60c3727be248",
              "IPY_MODEL_7f5492cc4a114bfcacccea72367c3916",
              "IPY_MODEL_2a927eecf04044fb953725ddcd2b4e5a"
            ],
            "layout": "IPY_MODEL_9f4925cd10b048cb82faecf9e4cbb009"
          }
        },
        "b9bfd1e1f9de4b0bb1ca016611563f45": {
          "model_module": "@jupyter-widgets/base",
          "model_module_version": "1.2.0",
          "model_name": "LayoutModel",
          "state": {
            "_model_module": "@jupyter-widgets/base",
            "_model_module_version": "1.2.0",
            "_model_name": "LayoutModel",
            "_view_count": null,
            "_view_module": "@jupyter-widgets/base",
            "_view_module_version": "1.2.0",
            "_view_name": "LayoutView",
            "align_content": null,
            "align_items": null,
            "align_self": null,
            "border": null,
            "bottom": null,
            "display": null,
            "flex": null,
            "flex_flow": null,
            "grid_area": null,
            "grid_auto_columns": null,
            "grid_auto_flow": null,
            "grid_auto_rows": null,
            "grid_column": null,
            "grid_gap": null,
            "grid_row": null,
            "grid_template_areas": null,
            "grid_template_columns": null,
            "grid_template_rows": null,
            "height": null,
            "justify_content": null,
            "justify_items": null,
            "left": null,
            "margin": null,
            "max_height": null,
            "max_width": null,
            "min_height": null,
            "min_width": null,
            "object_fit": null,
            "object_position": null,
            "order": null,
            "overflow": null,
            "overflow_x": null,
            "overflow_y": null,
            "padding": null,
            "right": null,
            "top": null,
            "visibility": null,
            "width": null
          }
        },
        "cb1db5c67ce54eeca47bef8882c502c3": {
          "model_module": "@jupyter-widgets/controls",
          "model_module_version": "1.5.0",
          "model_name": "DescriptionStyleModel",
          "state": {
            "_model_module": "@jupyter-widgets/controls",
            "_model_module_version": "1.5.0",
            "_model_name": "DescriptionStyleModel",
            "_view_count": null,
            "_view_module": "@jupyter-widgets/base",
            "_view_module_version": "1.2.0",
            "_view_name": "StyleView",
            "description_width": ""
          }
        },
        "cb8e309e5c374ca8aa3eea735fee53a7": {
          "model_module": "@jupyter-widgets/base",
          "model_module_version": "1.2.0",
          "model_name": "LayoutModel",
          "state": {
            "_model_module": "@jupyter-widgets/base",
            "_model_module_version": "1.2.0",
            "_model_name": "LayoutModel",
            "_view_count": null,
            "_view_module": "@jupyter-widgets/base",
            "_view_module_version": "1.2.0",
            "_view_name": "LayoutView",
            "align_content": null,
            "align_items": null,
            "align_self": null,
            "border": null,
            "bottom": null,
            "display": null,
            "flex": null,
            "flex_flow": null,
            "grid_area": null,
            "grid_auto_columns": null,
            "grid_auto_flow": null,
            "grid_auto_rows": null,
            "grid_column": null,
            "grid_gap": null,
            "grid_row": null,
            "grid_template_areas": null,
            "grid_template_columns": null,
            "grid_template_rows": null,
            "height": null,
            "justify_content": null,
            "justify_items": null,
            "left": null,
            "margin": null,
            "max_height": null,
            "max_width": null,
            "min_height": null,
            "min_width": null,
            "object_fit": null,
            "object_position": null,
            "order": null,
            "overflow": null,
            "overflow_x": null,
            "overflow_y": null,
            "padding": null,
            "right": null,
            "top": null,
            "visibility": null,
            "width": null
          }
        },
        "d027fc441acf45f7acf6121a728d231b": {
          "model_module": "@jupyter-widgets/controls",
          "model_module_version": "1.5.0",
          "model_name": "DescriptionStyleModel",
          "state": {
            "_model_module": "@jupyter-widgets/controls",
            "_model_module_version": "1.5.0",
            "_model_name": "DescriptionStyleModel",
            "_view_count": null,
            "_view_module": "@jupyter-widgets/base",
            "_view_module_version": "1.2.0",
            "_view_name": "StyleView",
            "description_width": ""
          }
        },
        "d5076724024543b282744ebaea653e62": {
          "model_module": "@jupyter-widgets/controls",
          "model_module_version": "1.5.0",
          "model_name": "DescriptionStyleModel",
          "state": {
            "_model_module": "@jupyter-widgets/controls",
            "_model_module_version": "1.5.0",
            "_model_name": "DescriptionStyleModel",
            "_view_count": null,
            "_view_module": "@jupyter-widgets/base",
            "_view_module_version": "1.2.0",
            "_view_name": "StyleView",
            "description_width": ""
          }
        },
        "d6b0493e6d194ba09955a13ce9a0e42c": {
          "model_module": "@jupyter-widgets/controls",
          "model_module_version": "1.5.0",
          "model_name": "HTMLModel",
          "state": {
            "_dom_classes": [],
            "_model_module": "@jupyter-widgets/controls",
            "_model_module_version": "1.5.0",
            "_model_name": "HTMLModel",
            "_view_count": null,
            "_view_module": "@jupyter-widgets/controls",
            "_view_module_version": "1.5.0",
            "_view_name": "HTMLView",
            "description": "",
            "description_tooltip": null,
            "layout": "IPY_MODEL_39b63cb3c98548649983c9037596c9b6",
            "placeholder": "​",
            "style": "IPY_MODEL_d027fc441acf45f7acf6121a728d231b",
            "value": " 5169/5169 [01:44&lt;00:00, 52.47 examples/s]"
          }
        },
        "da9d310be3894c86a7daf4dd8a06ff32": {
          "model_module": "@jupyter-widgets/base",
          "model_module_version": "1.2.0",
          "model_name": "LayoutModel",
          "state": {
            "_model_module": "@jupyter-widgets/base",
            "_model_module_version": "1.2.0",
            "_model_name": "LayoutModel",
            "_view_count": null,
            "_view_module": "@jupyter-widgets/base",
            "_view_module_version": "1.2.0",
            "_view_name": "LayoutView",
            "align_content": null,
            "align_items": null,
            "align_self": null,
            "border": null,
            "bottom": null,
            "display": null,
            "flex": null,
            "flex_flow": null,
            "grid_area": null,
            "grid_auto_columns": null,
            "grid_auto_flow": null,
            "grid_auto_rows": null,
            "grid_column": null,
            "grid_gap": null,
            "grid_row": null,
            "grid_template_areas": null,
            "grid_template_columns": null,
            "grid_template_rows": null,
            "height": null,
            "justify_content": null,
            "justify_items": null,
            "left": null,
            "margin": null,
            "max_height": null,
            "max_width": null,
            "min_height": null,
            "min_width": null,
            "object_fit": null,
            "object_position": null,
            "order": null,
            "overflow": null,
            "overflow_x": null,
            "overflow_y": null,
            "padding": null,
            "right": null,
            "top": null,
            "visibility": null,
            "width": null
          }
        },
        "df9a930254b441cc99fc60c3727be248": {
          "model_module": "@jupyter-widgets/controls",
          "model_module_version": "1.5.0",
          "model_name": "HTMLModel",
          "state": {
            "_dom_classes": [],
            "_model_module": "@jupyter-widgets/controls",
            "_model_module_version": "1.5.0",
            "_model_name": "HTMLModel",
            "_view_count": null,
            "_view_module": "@jupyter-widgets/controls",
            "_view_module_version": "1.5.0",
            "_view_name": "HTMLView",
            "description": "",
            "description_tooltip": null,
            "layout": "IPY_MODEL_da9d310be3894c86a7daf4dd8a06ff32",
            "placeholder": "​",
            "style": "IPY_MODEL_9e68ae9ea8b2474bb00822494c672598",
            "value": "Map: 100%"
          }
        },
        "e24cfd7d98a548769b648eed00c1b59e": {
          "model_module": "@jupyter-widgets/base",
          "model_module_version": "1.2.0",
          "model_name": "LayoutModel",
          "state": {
            "_model_module": "@jupyter-widgets/base",
            "_model_module_version": "1.2.0",
            "_model_name": "LayoutModel",
            "_view_count": null,
            "_view_module": "@jupyter-widgets/base",
            "_view_module_version": "1.2.0",
            "_view_name": "LayoutView",
            "align_content": null,
            "align_items": null,
            "align_self": null,
            "border": null,
            "bottom": null,
            "display": null,
            "flex": null,
            "flex_flow": null,
            "grid_area": null,
            "grid_auto_columns": null,
            "grid_auto_flow": null,
            "grid_auto_rows": null,
            "grid_column": null,
            "grid_gap": null,
            "grid_row": null,
            "grid_template_areas": null,
            "grid_template_columns": null,
            "grid_template_rows": null,
            "height": null,
            "justify_content": null,
            "justify_items": null,
            "left": null,
            "margin": null,
            "max_height": null,
            "max_width": null,
            "min_height": null,
            "min_width": null,
            "object_fit": null,
            "object_position": null,
            "order": null,
            "overflow": null,
            "overflow_x": null,
            "overflow_y": null,
            "padding": null,
            "right": null,
            "top": null,
            "visibility": null,
            "width": null
          }
        },
        "e54a98e754604fafb6e99191811d3ccc": {
          "model_module": "@jupyter-widgets/base",
          "model_module_version": "1.2.0",
          "model_name": "LayoutModel",
          "state": {
            "_model_module": "@jupyter-widgets/base",
            "_model_module_version": "1.2.0",
            "_model_name": "LayoutModel",
            "_view_count": null,
            "_view_module": "@jupyter-widgets/base",
            "_view_module_version": "1.2.0",
            "_view_name": "LayoutView",
            "align_content": null,
            "align_items": null,
            "align_self": null,
            "border": null,
            "bottom": null,
            "display": null,
            "flex": null,
            "flex_flow": null,
            "grid_area": null,
            "grid_auto_columns": null,
            "grid_auto_flow": null,
            "grid_auto_rows": null,
            "grid_column": null,
            "grid_gap": null,
            "grid_row": null,
            "grid_template_areas": null,
            "grid_template_columns": null,
            "grid_template_rows": null,
            "height": null,
            "justify_content": null,
            "justify_items": null,
            "left": null,
            "margin": null,
            "max_height": null,
            "max_width": null,
            "min_height": null,
            "min_width": null,
            "object_fit": null,
            "object_position": null,
            "order": null,
            "overflow": null,
            "overflow_x": null,
            "overflow_y": null,
            "padding": null,
            "right": null,
            "top": null,
            "visibility": null,
            "width": null
          }
        },
        "ee75d6d37cf4452bbc4b0e5bb81ed7ed": {
          "model_module": "@jupyter-widgets/controls",
          "model_module_version": "1.5.0",
          "model_name": "HBoxModel",
          "state": {
            "_dom_classes": [],
            "_model_module": "@jupyter-widgets/controls",
            "_model_module_version": "1.5.0",
            "_model_name": "HBoxModel",
            "_view_count": null,
            "_view_module": "@jupyter-widgets/controls",
            "_view_module_version": "1.5.0",
            "_view_name": "HBoxView",
            "box_style": "",
            "children": [
              "IPY_MODEL_39b75f13bda5450ea6bdb21b266ad306",
              "IPY_MODEL_5220ac5a64ad4a13a63961dc19f8146e",
              "IPY_MODEL_3cf69bcc15f34d6da5a2753c31c5a465"
            ],
            "layout": "IPY_MODEL_efe70fc397cf48daa59e6377f004c4d0"
          }
        },
        "efe70fc397cf48daa59e6377f004c4d0": {
          "model_module": "@jupyter-widgets/base",
          "model_module_version": "1.2.0",
          "model_name": "LayoutModel",
          "state": {
            "_model_module": "@jupyter-widgets/base",
            "_model_module_version": "1.2.0",
            "_model_name": "LayoutModel",
            "_view_count": null,
            "_view_module": "@jupyter-widgets/base",
            "_view_module_version": "1.2.0",
            "_view_name": "LayoutView",
            "align_content": null,
            "align_items": null,
            "align_self": null,
            "border": null,
            "bottom": null,
            "display": null,
            "flex": null,
            "flex_flow": null,
            "grid_area": null,
            "grid_auto_columns": null,
            "grid_auto_flow": null,
            "grid_auto_rows": null,
            "grid_column": null,
            "grid_gap": null,
            "grid_row": null,
            "grid_template_areas": null,
            "grid_template_columns": null,
            "grid_template_rows": null,
            "height": null,
            "justify_content": null,
            "justify_items": null,
            "left": null,
            "margin": null,
            "max_height": null,
            "max_width": null,
            "min_height": null,
            "min_width": null,
            "object_fit": null,
            "object_position": null,
            "order": null,
            "overflow": null,
            "overflow_x": null,
            "overflow_y": null,
            "padding": null,
            "right": null,
            "top": null,
            "visibility": null,
            "width": null
          }
        },
        "f1dd1aa1de9644ee8decc71caf6479ba": {
          "model_module": "@jupyter-widgets/controls",
          "model_module_version": "1.5.0",
          "model_name": "DescriptionStyleModel",
          "state": {
            "_model_module": "@jupyter-widgets/controls",
            "_model_module_version": "1.5.0",
            "_model_name": "DescriptionStyleModel",
            "_view_count": null,
            "_view_module": "@jupyter-widgets/base",
            "_view_module_version": "1.2.0",
            "_view_name": "StyleView",
            "description_width": ""
          }
        },
        "f2fb474638674313b610331cca748921": {
          "model_module": "@jupyter-widgets/base",
          "model_module_version": "1.2.0",
          "model_name": "LayoutModel",
          "state": {
            "_model_module": "@jupyter-widgets/base",
            "_model_module_version": "1.2.0",
            "_model_name": "LayoutModel",
            "_view_count": null,
            "_view_module": "@jupyter-widgets/base",
            "_view_module_version": "1.2.0",
            "_view_name": "LayoutView",
            "align_content": null,
            "align_items": null,
            "align_self": null,
            "border": null,
            "bottom": null,
            "display": null,
            "flex": null,
            "flex_flow": null,
            "grid_area": null,
            "grid_auto_columns": null,
            "grid_auto_flow": null,
            "grid_auto_rows": null,
            "grid_column": null,
            "grid_gap": null,
            "grid_row": null,
            "grid_template_areas": null,
            "grid_template_columns": null,
            "grid_template_rows": null,
            "height": null,
            "justify_content": null,
            "justify_items": null,
            "left": null,
            "margin": null,
            "max_height": null,
            "max_width": null,
            "min_height": null,
            "min_width": null,
            "object_fit": null,
            "object_position": null,
            "order": null,
            "overflow": null,
            "overflow_x": null,
            "overflow_y": null,
            "padding": null,
            "right": null,
            "top": null,
            "visibility": null,
            "width": null
          }
        },
        "f3c5a04dfc404c59b722cb196074de90": {
          "model_module": "@jupyter-widgets/controls",
          "model_module_version": "1.5.0",
          "model_name": "ProgressStyleModel",
          "state": {
            "_model_module": "@jupyter-widgets/controls",
            "_model_module_version": "1.5.0",
            "_model_name": "ProgressStyleModel",
            "_view_count": null,
            "_view_module": "@jupyter-widgets/base",
            "_view_module_version": "1.2.0",
            "_view_name": "StyleView",
            "bar_color": null,
            "description_width": ""
          }
        },
        "f8de0d7e4f584af694a22e5b1b532ced": {
          "model_module": "@jupyter-widgets/base",
          "model_module_version": "1.2.0",
          "model_name": "LayoutModel",
          "state": {
            "_model_module": "@jupyter-widgets/base",
            "_model_module_version": "1.2.0",
            "_model_name": "LayoutModel",
            "_view_count": null,
            "_view_module": "@jupyter-widgets/base",
            "_view_module_version": "1.2.0",
            "_view_name": "LayoutView",
            "align_content": null,
            "align_items": null,
            "align_self": null,
            "border": null,
            "bottom": null,
            "display": null,
            "flex": null,
            "flex_flow": null,
            "grid_area": null,
            "grid_auto_columns": null,
            "grid_auto_flow": null,
            "grid_auto_rows": null,
            "grid_column": null,
            "grid_gap": null,
            "grid_row": null,
            "grid_template_areas": null,
            "grid_template_columns": null,
            "grid_template_rows": null,
            "height": null,
            "justify_content": null,
            "justify_items": null,
            "left": null,
            "margin": null,
            "max_height": null,
            "max_width": null,
            "min_height": null,
            "min_width": null,
            "object_fit": null,
            "object_position": null,
            "order": null,
            "overflow": null,
            "overflow_x": null,
            "overflow_y": null,
            "padding": null,
            "right": null,
            "top": null,
            "visibility": null,
            "width": null
          }
        }
      }
    }
  },
  "nbformat": 4,
  "nbformat_minor": 0
}
